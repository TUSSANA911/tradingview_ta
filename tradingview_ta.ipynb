{
 "cells": [
  {
   "cell_type": "code",
   "execution_count": 37,
   "id": "cde77d6f",
   "metadata": {},
   "outputs": [
    {
     "name": "stdout",
     "output_type": "stream",
     "text": [
      "Requirement already satisfied: tradingview_ta in /Users/arm2/anaconda3/lib/python3.11/site-packages (3.3.0)\n",
      "Requirement already satisfied: requests in /Users/arm2/anaconda3/lib/python3.11/site-packages (from tradingview_ta) (2.31.0)\n",
      "Requirement already satisfied: charset-normalizer<4,>=2 in /Users/arm2/anaconda3/lib/python3.11/site-packages (from requests->tradingview_ta) (2.0.4)\n",
      "Requirement already satisfied: idna<4,>=2.5 in /Users/arm2/anaconda3/lib/python3.11/site-packages (from requests->tradingview_ta) (3.4)\n",
      "Requirement already satisfied: urllib3<3,>=1.21.1 in /Users/arm2/anaconda3/lib/python3.11/site-packages (from requests->tradingview_ta) (1.26.16)\n",
      "Requirement already satisfied: certifi>=2017.4.17 in /Users/arm2/anaconda3/lib/python3.11/site-packages (from requests->tradingview_ta) (2023.7.22)\n",
      "\n",
      "\u001b[1m[\u001b[0m\u001b[34;49mnotice\u001b[0m\u001b[1;39;49m]\u001b[0m\u001b[39;49m A new release of pip is available: \u001b[0m\u001b[31;49m23.3.1\u001b[0m\u001b[39;49m -> \u001b[0m\u001b[32;49m23.3.2\u001b[0m\n",
      "\u001b[1m[\u001b[0m\u001b[34;49mnotice\u001b[0m\u001b[1;39;49m]\u001b[0m\u001b[39;49m To update, run: \u001b[0m\u001b[32;49mpip install --upgrade pip\u001b[0m\n"
     ]
    }
   ],
   "source": [
    "!pip install tradingview_ta"
   ]
  },
  {
   "cell_type": "code",
   "execution_count": 38,
   "id": "bd908462",
   "metadata": {},
   "outputs": [],
   "source": [
    "from tradingview_ta import TA_Handler, Interval, Exchange\n",
    "import tradingview_ta\n",
    "import pandas as pd"
   ]
  },
  {
   "cell_type": "code",
   "execution_count": 39,
   "id": "d5a0621e",
   "metadata": {},
   "outputs": [
    {
     "name": "stdout",
     "output_type": "stream",
     "text": [
      "Requirement already satisfied: selenium in /Users/arm2/anaconda3/lib/python3.11/site-packages (4.16.0)\n",
      "Requirement already satisfied: urllib3<3,>=1.26 in /Users/arm2/anaconda3/lib/python3.11/site-packages (from urllib3[socks]<3,>=1.26->selenium) (1.26.16)\n",
      "Requirement already satisfied: trio~=0.17 in /Users/arm2/anaconda3/lib/python3.11/site-packages (from selenium) (0.23.2)\n",
      "Requirement already satisfied: trio-websocket~=0.9 in /Users/arm2/anaconda3/lib/python3.11/site-packages (from selenium) (0.11.1)\n",
      "Requirement already satisfied: certifi>=2021.10.8 in /Users/arm2/anaconda3/lib/python3.11/site-packages (from selenium) (2023.7.22)\n",
      "Requirement already satisfied: attrs>=20.1.0 in /Users/arm2/anaconda3/lib/python3.11/site-packages (from trio~=0.17->selenium) (23.1.0)\n",
      "Requirement already satisfied: sortedcontainers in /Users/arm2/anaconda3/lib/python3.11/site-packages (from trio~=0.17->selenium) (2.4.0)\n",
      "Requirement already satisfied: idna in /Users/arm2/anaconda3/lib/python3.11/site-packages (from trio~=0.17->selenium) (3.4)\n",
      "Requirement already satisfied: outcome in /Users/arm2/anaconda3/lib/python3.11/site-packages (from trio~=0.17->selenium) (1.3.0.post0)\n",
      "Requirement already satisfied: sniffio>=1.3.0 in /Users/arm2/anaconda3/lib/python3.11/site-packages (from trio~=0.17->selenium) (1.3.0)\n",
      "Requirement already satisfied: wsproto>=0.14 in /Users/arm2/anaconda3/lib/python3.11/site-packages (from trio-websocket~=0.9->selenium) (1.2.0)\n",
      "Requirement already satisfied: PySocks!=1.5.7,<2.0,>=1.5.6 in /Users/arm2/anaconda3/lib/python3.11/site-packages (from urllib3[socks]<3,>=1.26->selenium) (1.7.1)\n",
      "Requirement already satisfied: h11<1,>=0.9.0 in /Users/arm2/anaconda3/lib/python3.11/site-packages (from wsproto>=0.14->trio-websocket~=0.9->selenium) (0.14.0)\n",
      "\n",
      "\u001b[1m[\u001b[0m\u001b[34;49mnotice\u001b[0m\u001b[1;39;49m]\u001b[0m\u001b[39;49m A new release of pip is available: \u001b[0m\u001b[31;49m23.3.1\u001b[0m\u001b[39;49m -> \u001b[0m\u001b[32;49m23.3.2\u001b[0m\n",
      "\u001b[1m[\u001b[0m\u001b[34;49mnotice\u001b[0m\u001b[1;39;49m]\u001b[0m\u001b[39;49m To update, run: \u001b[0m\u001b[32;49mpip install --upgrade pip\u001b[0m\n"
     ]
    }
   ],
   "source": [
    "!pip install selenium"
   ]
  },
  {
   "cell_type": "code",
   "execution_count": 40,
   "id": "860f15b8",
   "metadata": {},
   "outputs": [],
   "source": [
    "from selenium import webdriver \n",
    "from selenium.webdriver.common.by import By\n",
    "import numpy as np\n",
    "import requests\n",
    "import bs4"
   ]
  },
  {
   "cell_type": "code",
   "execution_count": 41,
   "id": "7ed84fb4",
   "metadata": {},
   "outputs": [],
   "source": [
    "PRM = TA_Handler(\n",
    "symbol = 'PRM',\n",
    "screener = 'thailand',\n",
    "    exchange = 'SET',\n",
    "    interval = Interval.INTERVAL_1_DAY,\n",
    ")"
   ]
  },
  {
   "cell_type": "code",
   "execution_count": 42,
   "id": "6eeb3a9a",
   "metadata": {},
   "outputs": [
    {
     "data": {
      "text/html": [
       "<div>\n",
       "<style scoped>\n",
       "    .dataframe tbody tr th:only-of-type {\n",
       "        vertical-align: middle;\n",
       "    }\n",
       "\n",
       "    .dataframe tbody tr th {\n",
       "        vertical-align: top;\n",
       "    }\n",
       "\n",
       "    .dataframe thead th {\n",
       "        text-align: right;\n",
       "    }\n",
       "</style>\n",
       "<table border=\"1\" class=\"dataframe\">\n",
       "  <thead>\n",
       "    <tr style=\"text-align: right;\">\n",
       "      <th></th>\n",
       "      <th>Summary</th>\n",
       "    </tr>\n",
       "  </thead>\n",
       "  <tbody>\n",
       "    <tr>\n",
       "      <th>RECOMMENDATION</th>\n",
       "      <td>SELL</td>\n",
       "    </tr>\n",
       "    <tr>\n",
       "      <th>BUY</th>\n",
       "      <td>4</td>\n",
       "    </tr>\n",
       "    <tr>\n",
       "      <th>SELL</th>\n",
       "      <td>12</td>\n",
       "    </tr>\n",
       "    <tr>\n",
       "      <th>NEUTRAL</th>\n",
       "      <td>10</td>\n",
       "    </tr>\n",
       "  </tbody>\n",
       "</table>\n",
       "</div>"
      ],
      "text/plain": [
       "               Summary\n",
       "RECOMMENDATION    SELL\n",
       "BUY                  4\n",
       "SELL                12\n",
       "NEUTRAL             10"
      ]
     },
     "execution_count": 42,
     "metadata": {},
     "output_type": "execute_result"
    }
   ],
   "source": [
    "PRM_summary = PRM.get_analysis().summary\n",
    "PRM_summary\n",
    "PRM_summary = pd.DataFrame.from_dict(PRM_summary, orient = 'index')\n",
    "PRM_summary.rename(columns = {0:'Summary'}, inplace = True)\n",
    "PRM_summary"
   ]
  },
  {
   "cell_type": "code",
   "execution_count": 43,
   "id": "d1897d46",
   "metadata": {},
   "outputs": [
    {
     "data": {
      "text/html": [
       "<div>\n",
       "<style scoped>\n",
       "    .dataframe tbody tr th:only-of-type {\n",
       "        vertical-align: middle;\n",
       "    }\n",
       "\n",
       "    .dataframe tbody tr th {\n",
       "        vertical-align: top;\n",
       "    }\n",
       "\n",
       "    .dataframe thead th {\n",
       "        text-align: right;\n",
       "    }\n",
       "</style>\n",
       "<table border=\"1\" class=\"dataframe\">\n",
       "  <thead>\n",
       "    <tr style=\"text-align: right;\">\n",
       "      <th></th>\n",
       "      <th>oscillators</th>\n",
       "    </tr>\n",
       "  </thead>\n",
       "  <tbody>\n",
       "    <tr>\n",
       "      <th>RECOMMENDATION</th>\n",
       "      <td>NEUTRAL</td>\n",
       "    </tr>\n",
       "    <tr>\n",
       "      <th>BUY</th>\n",
       "      <td>1</td>\n",
       "    </tr>\n",
       "    <tr>\n",
       "      <th>SELL</th>\n",
       "      <td>1</td>\n",
       "    </tr>\n",
       "    <tr>\n",
       "      <th>NEUTRAL</th>\n",
       "      <td>9</td>\n",
       "    </tr>\n",
       "  </tbody>\n",
       "</table>\n",
       "</div>"
      ],
      "text/plain": [
       "               oscillators\n",
       "RECOMMENDATION     NEUTRAL\n",
       "BUY                      1\n",
       "SELL                     1\n",
       "NEUTRAL                  9"
      ]
     },
     "execution_count": 43,
     "metadata": {},
     "output_type": "execute_result"
    }
   ],
   "source": [
    "PRM_oscillators = PRM.get_analysis().oscillators\n",
    "PRM_oscillators = pd.DataFrame.from_dict(PRM_oscillators, orient = 'index')\n",
    "\n",
    "PRM_oscillators.rename(columns = {0:'oscillators'}, inplace = True)\n",
    "PRM_oscillators = PRM_oscillators.drop(index=('COMPUTE'))\n",
    "PRM_oscillators"
   ]
  },
  {
   "cell_type": "code",
   "execution_count": 44,
   "id": "55f4015f",
   "metadata": {},
   "outputs": [
    {
     "data": {
      "text/html": [
       "<div>\n",
       "<style scoped>\n",
       "    .dataframe tbody tr th:only-of-type {\n",
       "        vertical-align: middle;\n",
       "    }\n",
       "\n",
       "    .dataframe tbody tr th {\n",
       "        vertical-align: top;\n",
       "    }\n",
       "\n",
       "    .dataframe thead th {\n",
       "        text-align: right;\n",
       "    }\n",
       "</style>\n",
       "<table border=\"1\" class=\"dataframe\">\n",
       "  <thead>\n",
       "    <tr style=\"text-align: right;\">\n",
       "      <th></th>\n",
       "      <th>Moving_Averages</th>\n",
       "    </tr>\n",
       "  </thead>\n",
       "  <tbody>\n",
       "    <tr>\n",
       "      <th>RECOMMENDATION</th>\n",
       "      <td>STRONG_SELL</td>\n",
       "    </tr>\n",
       "    <tr>\n",
       "      <th>BUY</th>\n",
       "      <td>3</td>\n",
       "    </tr>\n",
       "    <tr>\n",
       "      <th>SELL</th>\n",
       "      <td>11</td>\n",
       "    </tr>\n",
       "    <tr>\n",
       "      <th>NEUTRAL</th>\n",
       "      <td>1</td>\n",
       "    </tr>\n",
       "  </tbody>\n",
       "</table>\n",
       "</div>"
      ],
      "text/plain": [
       "               Moving_Averages\n",
       "RECOMMENDATION     STRONG_SELL\n",
       "BUY                          3\n",
       "SELL                        11\n",
       "NEUTRAL                      1"
      ]
     },
     "execution_count": 44,
     "metadata": {},
     "output_type": "execute_result"
    }
   ],
   "source": [
    "PRM_moving_averages = PRM.get_analysis().moving_averages\n",
    "PRM_moving_averages = pd.DataFrame.from_dict(PRM_moving_averages, orient = 'index')\n",
    "\n",
    "PRM_moving_averages.rename(columns = {0:'Moving_Averages'}, inplace = True)\n",
    "PRM_moving_averages = PRM_moving_averages.drop(index=('COMPUTE'))\n",
    "PRM_moving_averages"
   ]
  },
  {
   "cell_type": "code",
   "execution_count": 45,
   "id": "10745ba6",
   "metadata": {},
   "outputs": [],
   "source": [
    "PRM = pd.concat([PRM_summary, PRM_oscillators, PRM_moving_averages], axis = 1)"
   ]
  },
  {
   "cell_type": "code",
   "execution_count": 46,
   "id": "ca3a673f",
   "metadata": {},
   "outputs": [
    {
     "data": {
      "text/html": [
       "<div>\n",
       "<style scoped>\n",
       "    .dataframe tbody tr th:only-of-type {\n",
       "        vertical-align: middle;\n",
       "    }\n",
       "\n",
       "    .dataframe tbody tr th {\n",
       "        vertical-align: top;\n",
       "    }\n",
       "\n",
       "    .dataframe thead th {\n",
       "        text-align: right;\n",
       "    }\n",
       "</style>\n",
       "<table border=\"1\" class=\"dataframe\">\n",
       "  <thead>\n",
       "    <tr style=\"text-align: right;\">\n",
       "      <th></th>\n",
       "      <th>Signal</th>\n",
       "      <th>Summary</th>\n",
       "      <th>oscillators</th>\n",
       "      <th>Moving_Averages</th>\n",
       "    </tr>\n",
       "  </thead>\n",
       "  <tbody>\n",
       "    <tr>\n",
       "      <th>0</th>\n",
       "      <td>RECOMMENDATION</td>\n",
       "      <td>SELL</td>\n",
       "      <td>NEUTRAL</td>\n",
       "      <td>STRONG_SELL</td>\n",
       "    </tr>\n",
       "    <tr>\n",
       "      <th>1</th>\n",
       "      <td>BUY</td>\n",
       "      <td>4</td>\n",
       "      <td>1</td>\n",
       "      <td>3</td>\n",
       "    </tr>\n",
       "    <tr>\n",
       "      <th>2</th>\n",
       "      <td>SELL</td>\n",
       "      <td>12</td>\n",
       "      <td>1</td>\n",
       "      <td>11</td>\n",
       "    </tr>\n",
       "    <tr>\n",
       "      <th>3</th>\n",
       "      <td>NEUTRAL</td>\n",
       "      <td>10</td>\n",
       "      <td>9</td>\n",
       "      <td>1</td>\n",
       "    </tr>\n",
       "  </tbody>\n",
       "</table>\n",
       "</div>"
      ],
      "text/plain": [
       "           Signal Summary oscillators Moving_Averages\n",
       "0  RECOMMENDATION    SELL     NEUTRAL     STRONG_SELL\n",
       "1             BUY       4           1               3\n",
       "2            SELL      12           1              11\n",
       "3         NEUTRAL      10           9               1"
      ]
     },
     "execution_count": 46,
     "metadata": {},
     "output_type": "execute_result"
    }
   ],
   "source": [
    "PRM = PRM.reset_index()\n",
    "PRM.rename(columns = {'index':'Signal'}, inplace = True)\n",
    "PRM"
   ]
  },
  {
   "cell_type": "code",
   "execution_count": 47,
   "id": "7f2f1f26",
   "metadata": {},
   "outputs": [],
   "source": [
    "PRM.to_csv('PRM_Final.csv', index = False)"
   ]
  },
  {
   "cell_type": "code",
   "execution_count": 17,
   "id": "bf266ce5",
   "metadata": {},
   "outputs": [],
   "source": [
    "driver = webdriver.Chrome()\n",
    "driver.get('https://www.tradingview.com/symbols/SET-PRM/technicals/')"
   ]
  },
  {
   "cell_type": "code",
   "execution_count": 18,
   "id": "432ae23e",
   "metadata": {},
   "outputs": [],
   "source": [
    "PRM_data = driver.page_source"
   ]
  },
  {
   "cell_type": "code",
   "execution_count": 19,
   "id": "36127d53",
   "metadata": {},
   "outputs": [
    {
     "name": "stderr",
     "output_type": "stream",
     "text": [
      "/var/folders/r2/93nn3d1n2713cjf2mjhq935m0000gr/T/ipykernel_30310/4096318590.py:1: FutureWarning: Passing literal html to 'read_html' is deprecated and will be removed in a future version. To read from a literal string, wrap it in a 'StringIO' object.\n",
      "  PRM_ossilator = pd.read_html(PRM_data)[0]\n"
     ]
    }
   ],
   "source": [
    "PRM_ossilator = pd.read_html(PRM_data)[0]"
   ]
  },
  {
   "cell_type": "code",
   "execution_count": 20,
   "id": "8f48732a",
   "metadata": {},
   "outputs": [
    {
     "data": {
      "text/html": [
       "<div>\n",
       "<style scoped>\n",
       "    .dataframe tbody tr th:only-of-type {\n",
       "        vertical-align: middle;\n",
       "    }\n",
       "\n",
       "    .dataframe tbody tr th {\n",
       "        vertical-align: top;\n",
       "    }\n",
       "\n",
       "    .dataframe thead th {\n",
       "        text-align: right;\n",
       "    }\n",
       "</style>\n",
       "<table border=\"1\" class=\"dataframe\">\n",
       "  <thead>\n",
       "    <tr style=\"text-align: right;\">\n",
       "      <th></th>\n",
       "      <th>Name</th>\n",
       "      <th>Value</th>\n",
       "      <th>Action</th>\n",
       "    </tr>\n",
       "  </thead>\n",
       "  <tbody>\n",
       "    <tr>\n",
       "      <th>0</th>\n",
       "      <td>Relative Strength Index (14)</td>\n",
       "      <td>42.64</td>\n",
       "      <td>Neutral</td>\n",
       "    </tr>\n",
       "    <tr>\n",
       "      <th>1</th>\n",
       "      <td>Stochastic %K (14, 3, 3)</td>\n",
       "      <td>37.50</td>\n",
       "      <td>Neutral</td>\n",
       "    </tr>\n",
       "    <tr>\n",
       "      <th>2</th>\n",
       "      <td>Commodity Channel Index (20)</td>\n",
       "      <td>−8.21</td>\n",
       "      <td>Neutral</td>\n",
       "    </tr>\n",
       "    <tr>\n",
       "      <th>3</th>\n",
       "      <td>Average Directional Index (14)</td>\n",
       "      <td>43.79</td>\n",
       "      <td>Neutral</td>\n",
       "    </tr>\n",
       "    <tr>\n",
       "      <th>4</th>\n",
       "      <td>Awesome Oscillator</td>\n",
       "      <td>−0.39</td>\n",
       "      <td>Neutral</td>\n",
       "    </tr>\n",
       "    <tr>\n",
       "      <th>5</th>\n",
       "      <td>Momentum (10)</td>\n",
       "      <td>−0.15</td>\n",
       "      <td>Sell</td>\n",
       "    </tr>\n",
       "    <tr>\n",
       "      <th>6</th>\n",
       "      <td>MACD Level (12, 26)</td>\n",
       "      <td>−0.18</td>\n",
       "      <td>Buy</td>\n",
       "    </tr>\n",
       "    <tr>\n",
       "      <th>7</th>\n",
       "      <td>Stochastic RSI Fast (3, 3, 14, 14)</td>\n",
       "      <td>87.89</td>\n",
       "      <td>Neutral</td>\n",
       "    </tr>\n",
       "    <tr>\n",
       "      <th>8</th>\n",
       "      <td>Williams Percent Range (14)</td>\n",
       "      <td>−52.08</td>\n",
       "      <td>Neutral</td>\n",
       "    </tr>\n",
       "    <tr>\n",
       "      <th>9</th>\n",
       "      <td>Bull Bear Power</td>\n",
       "      <td>0.08</td>\n",
       "      <td>Neutral</td>\n",
       "    </tr>\n",
       "    <tr>\n",
       "      <th>10</th>\n",
       "      <td>Ultimate Oscillator (7, 14, 28)</td>\n",
       "      <td>50.04</td>\n",
       "      <td>Neutral</td>\n",
       "    </tr>\n",
       "  </tbody>\n",
       "</table>\n",
       "</div>"
      ],
      "text/plain": [
       "                                  Name   Value   Action\n",
       "0         Relative Strength Index (14)   42.64  Neutral\n",
       "1             Stochastic %K (14, 3, 3)   37.50  Neutral\n",
       "2         Commodity Channel Index (20)   −8.21  Neutral\n",
       "3       Average Directional Index (14)   43.79  Neutral\n",
       "4                   Awesome Oscillator   −0.39  Neutral\n",
       "5                        Momentum (10)   −0.15     Sell\n",
       "6                  MACD Level (12, 26)   −0.18      Buy\n",
       "7   Stochastic RSI Fast (3, 3, 14, 14)   87.89  Neutral\n",
       "8          Williams Percent Range (14)  −52.08  Neutral\n",
       "9                      Bull Bear Power    0.08  Neutral\n",
       "10     Ultimate Oscillator (7, 14, 28)   50.04  Neutral"
      ]
     },
     "execution_count": 20,
     "metadata": {},
     "output_type": "execute_result"
    }
   ],
   "source": [
    "PRM_ossilator"
   ]
  },
  {
   "cell_type": "code",
   "execution_count": 21,
   "id": "912da3d1",
   "metadata": {},
   "outputs": [],
   "source": [
    "PRM_ossilator.to_csv('PRM_ossilator.csv', index = False)"
   ]
  },
  {
   "cell_type": "code",
   "execution_count": 22,
   "id": "b7bca086",
   "metadata": {},
   "outputs": [
    {
     "name": "stderr",
     "output_type": "stream",
     "text": [
      "/var/folders/r2/93nn3d1n2713cjf2mjhq935m0000gr/T/ipykernel_30310/4272071905.py:1: FutureWarning: Passing literal html to 'read_html' is deprecated and will be removed in a future version. To read from a literal string, wrap it in a 'StringIO' object.\n",
      "  PRM_Moving_Averages = pd.read_html(PRM_data)[1]\n"
     ]
    }
   ],
   "source": [
    "PRM_Moving_Averages = pd.read_html(PRM_data)[1]"
   ]
  },
  {
   "cell_type": "code",
   "execution_count": 23,
   "id": "37609604",
   "metadata": {},
   "outputs": [
    {
     "data": {
      "text/html": [
       "<div>\n",
       "<style scoped>\n",
       "    .dataframe tbody tr th:only-of-type {\n",
       "        vertical-align: middle;\n",
       "    }\n",
       "\n",
       "    .dataframe tbody tr th {\n",
       "        vertical-align: top;\n",
       "    }\n",
       "\n",
       "    .dataframe thead th {\n",
       "        text-align: right;\n",
       "    }\n",
       "</style>\n",
       "<table border=\"1\" class=\"dataframe\">\n",
       "  <thead>\n",
       "    <tr style=\"text-align: right;\">\n",
       "      <th></th>\n",
       "      <th>Name</th>\n",
       "      <th>Value</th>\n",
       "      <th>Action</th>\n",
       "    </tr>\n",
       "  </thead>\n",
       "  <tbody>\n",
       "    <tr>\n",
       "      <th>0</th>\n",
       "      <td>Exponential Moving Average (10)</td>\n",
       "      <td>5.11</td>\n",
       "      <td>Buy</td>\n",
       "    </tr>\n",
       "    <tr>\n",
       "      <th>1</th>\n",
       "      <td>Simple Moving Average (10)</td>\n",
       "      <td>5.08</td>\n",
       "      <td>Buy</td>\n",
       "    </tr>\n",
       "    <tr>\n",
       "      <th>2</th>\n",
       "      <td>Exponential Moving Average (20)</td>\n",
       "      <td>5.22</td>\n",
       "      <td>Sell</td>\n",
       "    </tr>\n",
       "    <tr>\n",
       "      <th>3</th>\n",
       "      <td>Simple Moving Average (20)</td>\n",
       "      <td>5.18</td>\n",
       "      <td>Sell</td>\n",
       "    </tr>\n",
       "    <tr>\n",
       "      <th>4</th>\n",
       "      <td>Exponential Moving Average (30)</td>\n",
       "      <td>5.36</td>\n",
       "      <td>Sell</td>\n",
       "    </tr>\n",
       "    <tr>\n",
       "      <th>5</th>\n",
       "      <td>Simple Moving Average (30)</td>\n",
       "      <td>5.35</td>\n",
       "      <td>Sell</td>\n",
       "    </tr>\n",
       "    <tr>\n",
       "      <th>6</th>\n",
       "      <td>Exponential Moving Average (50)</td>\n",
       "      <td>5.60</td>\n",
       "      <td>Sell</td>\n",
       "    </tr>\n",
       "    <tr>\n",
       "      <th>7</th>\n",
       "      <td>Simple Moving Average (50)</td>\n",
       "      <td>5.67</td>\n",
       "      <td>Sell</td>\n",
       "    </tr>\n",
       "    <tr>\n",
       "      <th>8</th>\n",
       "      <td>Exponential Moving Average (100)</td>\n",
       "      <td>5.96</td>\n",
       "      <td>Sell</td>\n",
       "    </tr>\n",
       "    <tr>\n",
       "      <th>9</th>\n",
       "      <td>Simple Moving Average (100)</td>\n",
       "      <td>6.15</td>\n",
       "      <td>Sell</td>\n",
       "    </tr>\n",
       "    <tr>\n",
       "      <th>10</th>\n",
       "      <td>Exponential Moving Average (200)</td>\n",
       "      <td>6.27</td>\n",
       "      <td>Sell</td>\n",
       "    </tr>\n",
       "    <tr>\n",
       "      <th>11</th>\n",
       "      <td>Simple Moving Average (200)</td>\n",
       "      <td>6.48</td>\n",
       "      <td>Sell</td>\n",
       "    </tr>\n",
       "    <tr>\n",
       "      <th>12</th>\n",
       "      <td>Ichimoku Base Line (9, 26, 52, 26)</td>\n",
       "      <td>5.36</td>\n",
       "      <td>Neutral</td>\n",
       "    </tr>\n",
       "    <tr>\n",
       "      <th>13</th>\n",
       "      <td>Volume Weighted Moving Average (20)</td>\n",
       "      <td>5.15</td>\n",
       "      <td>Sell</td>\n",
       "    </tr>\n",
       "    <tr>\n",
       "      <th>14</th>\n",
       "      <td>Hull Moving Average (9)</td>\n",
       "      <td>5.11</td>\n",
       "      <td>Buy</td>\n",
       "    </tr>\n",
       "  </tbody>\n",
       "</table>\n",
       "</div>"
      ],
      "text/plain": [
       "                                   Name  Value   Action\n",
       "0       Exponential Moving Average (10)   5.11      Buy\n",
       "1            Simple Moving Average (10)   5.08      Buy\n",
       "2       Exponential Moving Average (20)   5.22     Sell\n",
       "3            Simple Moving Average (20)   5.18     Sell\n",
       "4       Exponential Moving Average (30)   5.36     Sell\n",
       "5            Simple Moving Average (30)   5.35     Sell\n",
       "6       Exponential Moving Average (50)   5.60     Sell\n",
       "7            Simple Moving Average (50)   5.67     Sell\n",
       "8      Exponential Moving Average (100)   5.96     Sell\n",
       "9           Simple Moving Average (100)   6.15     Sell\n",
       "10     Exponential Moving Average (200)   6.27     Sell\n",
       "11          Simple Moving Average (200)   6.48     Sell\n",
       "12   Ichimoku Base Line (9, 26, 52, 26)   5.36  Neutral\n",
       "13  Volume Weighted Moving Average (20)   5.15     Sell\n",
       "14              Hull Moving Average (9)   5.11      Buy"
      ]
     },
     "execution_count": 23,
     "metadata": {},
     "output_type": "execute_result"
    }
   ],
   "source": [
    "PRM_Moving_Averages"
   ]
  },
  {
   "cell_type": "code",
   "execution_count": 24,
   "id": "81373523",
   "metadata": {},
   "outputs": [],
   "source": [
    "PRM_Moving_Averages.to_csv('PRM_Moving_Averages.csv', index = False)"
   ]
  },
  {
   "cell_type": "code",
   "execution_count": 25,
   "id": "69775fb4",
   "metadata": {},
   "outputs": [
    {
     "name": "stderr",
     "output_type": "stream",
     "text": [
      "/var/folders/r2/93nn3d1n2713cjf2mjhq935m0000gr/T/ipykernel_30310/2046158441.py:1: FutureWarning: Passing literal html to 'read_html' is deprecated and will be removed in a future version. To read from a literal string, wrap it in a 'StringIO' object.\n",
      "  PRM_support_resistance = pd.read_html(PRM_data)[2]\n"
     ]
    }
   ],
   "source": [
    "PRM_support_resistance = pd.read_html(PRM_data)[2]"
   ]
  },
  {
   "cell_type": "code",
   "execution_count": 26,
   "id": "0d1bea53",
   "metadata": {},
   "outputs": [
    {
     "data": {
      "text/html": [
       "<div>\n",
       "<style scoped>\n",
       "    .dataframe tbody tr th:only-of-type {\n",
       "        vertical-align: middle;\n",
       "    }\n",
       "\n",
       "    .dataframe tbody tr th {\n",
       "        vertical-align: top;\n",
       "    }\n",
       "\n",
       "    .dataframe thead th {\n",
       "        text-align: right;\n",
       "    }\n",
       "</style>\n",
       "<table border=\"1\" class=\"dataframe\">\n",
       "  <thead>\n",
       "    <tr style=\"text-align: right;\">\n",
       "      <th></th>\n",
       "      <th>Pivot</th>\n",
       "      <th>Classic</th>\n",
       "      <th>Fibonacci</th>\n",
       "      <th>Camarilla</th>\n",
       "      <th>Woodie</th>\n",
       "      <th>DM</th>\n",
       "    </tr>\n",
       "  </thead>\n",
       "  <tbody>\n",
       "    <tr>\n",
       "      <th>0</th>\n",
       "      <td>S3</td>\n",
       "      <td>2.87</td>\n",
       "      <td>4.17</td>\n",
       "      <td>4.74</td>\n",
       "      <td>3.15</td>\n",
       "      <td>—</td>\n",
       "    </tr>\n",
       "    <tr>\n",
       "      <th>1</th>\n",
       "      <td>S2</td>\n",
       "      <td>4.17</td>\n",
       "      <td>4.66</td>\n",
       "      <td>4.86</td>\n",
       "      <td>4.08</td>\n",
       "      <td>—</td>\n",
       "    </tr>\n",
       "    <tr>\n",
       "      <th>2</th>\n",
       "      <td>S1</td>\n",
       "      <td>4.63</td>\n",
       "      <td>4.97</td>\n",
       "      <td>4.98</td>\n",
       "      <td>4.45</td>\n",
       "      <td>4.40</td>\n",
       "    </tr>\n",
       "    <tr>\n",
       "      <th>3</th>\n",
       "      <td>P</td>\n",
       "      <td>5.47</td>\n",
       "      <td>5.47</td>\n",
       "      <td>5.47</td>\n",
       "      <td>5.38</td>\n",
       "      <td>5.35</td>\n",
       "    </tr>\n",
       "    <tr>\n",
       "      <th>4</th>\n",
       "      <td>R1</td>\n",
       "      <td>5.93</td>\n",
       "      <td>5.96</td>\n",
       "      <td>5.22</td>\n",
       "      <td>5.75</td>\n",
       "      <td>5.70</td>\n",
       "    </tr>\n",
       "    <tr>\n",
       "      <th>5</th>\n",
       "      <td>R2</td>\n",
       "      <td>6.77</td>\n",
       "      <td>6.27</td>\n",
       "      <td>5.34</td>\n",
       "      <td>6.68</td>\n",
       "      <td>—</td>\n",
       "    </tr>\n",
       "    <tr>\n",
       "      <th>6</th>\n",
       "      <td>R3</td>\n",
       "      <td>8.07</td>\n",
       "      <td>6.77</td>\n",
       "      <td>5.46</td>\n",
       "      <td>7.05</td>\n",
       "      <td>—</td>\n",
       "    </tr>\n",
       "  </tbody>\n",
       "</table>\n",
       "</div>"
      ],
      "text/plain": [
       "  Pivot  Classic  Fibonacci  Camarilla  Woodie    DM\n",
       "0    S3     2.87       4.17       4.74    3.15     —\n",
       "1    S2     4.17       4.66       4.86    4.08     —\n",
       "2    S1     4.63       4.97       4.98    4.45  4.40\n",
       "3     P     5.47       5.47       5.47    5.38  5.35\n",
       "4    R1     5.93       5.96       5.22    5.75  5.70\n",
       "5    R2     6.77       6.27       5.34    6.68     —\n",
       "6    R3     8.07       6.77       5.46    7.05     —"
      ]
     },
     "execution_count": 26,
     "metadata": {},
     "output_type": "execute_result"
    }
   ],
   "source": [
    "PRM_support_resistance"
   ]
  },
  {
   "cell_type": "code",
   "execution_count": 27,
   "id": "6b8f24e4",
   "metadata": {},
   "outputs": [],
   "source": [
    "PRM_support_resistance = PRM_support_resistance[['Pivot', 'Classic', 'Fibonacci']]"
   ]
  },
  {
   "cell_type": "code",
   "execution_count": 28,
   "id": "42c705f6",
   "metadata": {},
   "outputs": [
    {
     "data": {
      "text/html": [
       "<div>\n",
       "<style scoped>\n",
       "    .dataframe tbody tr th:only-of-type {\n",
       "        vertical-align: middle;\n",
       "    }\n",
       "\n",
       "    .dataframe tbody tr th {\n",
       "        vertical-align: top;\n",
       "    }\n",
       "\n",
       "    .dataframe thead th {\n",
       "        text-align: right;\n",
       "    }\n",
       "</style>\n",
       "<table border=\"1\" class=\"dataframe\">\n",
       "  <thead>\n",
       "    <tr style=\"text-align: right;\">\n",
       "      <th></th>\n",
       "      <th>Pivot</th>\n",
       "      <th>Classic</th>\n",
       "      <th>Fibonacci</th>\n",
       "    </tr>\n",
       "  </thead>\n",
       "  <tbody>\n",
       "    <tr>\n",
       "      <th>0</th>\n",
       "      <td>S3</td>\n",
       "      <td>2.87</td>\n",
       "      <td>4.17</td>\n",
       "    </tr>\n",
       "    <tr>\n",
       "      <th>1</th>\n",
       "      <td>S2</td>\n",
       "      <td>4.17</td>\n",
       "      <td>4.66</td>\n",
       "    </tr>\n",
       "    <tr>\n",
       "      <th>2</th>\n",
       "      <td>S1</td>\n",
       "      <td>4.63</td>\n",
       "      <td>4.97</td>\n",
       "    </tr>\n",
       "    <tr>\n",
       "      <th>3</th>\n",
       "      <td>P</td>\n",
       "      <td>5.47</td>\n",
       "      <td>5.47</td>\n",
       "    </tr>\n",
       "    <tr>\n",
       "      <th>4</th>\n",
       "      <td>R1</td>\n",
       "      <td>5.93</td>\n",
       "      <td>5.96</td>\n",
       "    </tr>\n",
       "    <tr>\n",
       "      <th>5</th>\n",
       "      <td>R2</td>\n",
       "      <td>6.77</td>\n",
       "      <td>6.27</td>\n",
       "    </tr>\n",
       "    <tr>\n",
       "      <th>6</th>\n",
       "      <td>R3</td>\n",
       "      <td>8.07</td>\n",
       "      <td>6.77</td>\n",
       "    </tr>\n",
       "  </tbody>\n",
       "</table>\n",
       "</div>"
      ],
      "text/plain": [
       "  Pivot  Classic  Fibonacci\n",
       "0    S3     2.87       4.17\n",
       "1    S2     4.17       4.66\n",
       "2    S1     4.63       4.97\n",
       "3     P     5.47       5.47\n",
       "4    R1     5.93       5.96\n",
       "5    R2     6.77       6.27\n",
       "6    R3     8.07       6.77"
      ]
     },
     "execution_count": 28,
     "metadata": {},
     "output_type": "execute_result"
    }
   ],
   "source": [
    "PRM_support_resistance"
   ]
  },
  {
   "cell_type": "code",
   "execution_count": 31,
   "id": "ae0b59c5",
   "metadata": {},
   "outputs": [
    {
     "name": "stderr",
     "output_type": "stream",
     "text": [
      "/var/folders/r2/93nn3d1n2713cjf2mjhq935m0000gr/T/ipykernel_30310/2553357854.py:1: SettingWithCopyWarning: \n",
      "A value is trying to be set on a copy of a slice from a DataFrame.\n",
      "Try using .loc[row_indexer,col_indexer] = value instead\n",
      "\n",
      "See the caveats in the documentation: https://pandas.pydata.org/pandas-docs/stable/user_guide/indexing.html#returning-a-view-versus-a-copy\n",
      "  PRM_support_resistance['Pivot'] = PRM_support_resistance['Pivot'].replace(\n"
     ]
    }
   ],
   "source": [
    "PRM_support_resistance['Pivot'] = PRM_support_resistance['Pivot'].replace(\n",
    "    ['S3', 'S2', 'S1', 'P', 'R1', 'R2', 'R3'],\n",
    "    ['Support3', 'Support2', 'Support1', 'Price', 'Resistance1', 'Resistance2', 'Resistance3',]\n",
    ")"
   ]
  },
  {
   "cell_type": "code",
   "execution_count": 32,
   "id": "e1bad86e",
   "metadata": {},
   "outputs": [
    {
     "data": {
      "text/html": [
       "<div>\n",
       "<style scoped>\n",
       "    .dataframe tbody tr th:only-of-type {\n",
       "        vertical-align: middle;\n",
       "    }\n",
       "\n",
       "    .dataframe tbody tr th {\n",
       "        vertical-align: top;\n",
       "    }\n",
       "\n",
       "    .dataframe thead th {\n",
       "        text-align: right;\n",
       "    }\n",
       "</style>\n",
       "<table border=\"1\" class=\"dataframe\">\n",
       "  <thead>\n",
       "    <tr style=\"text-align: right;\">\n",
       "      <th></th>\n",
       "      <th>Pivot</th>\n",
       "      <th>Classic</th>\n",
       "      <th>Fibonacci</th>\n",
       "    </tr>\n",
       "  </thead>\n",
       "  <tbody>\n",
       "    <tr>\n",
       "      <th>0</th>\n",
       "      <td>Support3</td>\n",
       "      <td>2.87</td>\n",
       "      <td>4.17</td>\n",
       "    </tr>\n",
       "    <tr>\n",
       "      <th>1</th>\n",
       "      <td>Support2</td>\n",
       "      <td>4.17</td>\n",
       "      <td>4.66</td>\n",
       "    </tr>\n",
       "    <tr>\n",
       "      <th>2</th>\n",
       "      <td>Support1</td>\n",
       "      <td>4.63</td>\n",
       "      <td>4.97</td>\n",
       "    </tr>\n",
       "    <tr>\n",
       "      <th>3</th>\n",
       "      <td>Price</td>\n",
       "      <td>5.47</td>\n",
       "      <td>5.47</td>\n",
       "    </tr>\n",
       "    <tr>\n",
       "      <th>4</th>\n",
       "      <td>Resistance1</td>\n",
       "      <td>5.93</td>\n",
       "      <td>5.96</td>\n",
       "    </tr>\n",
       "    <tr>\n",
       "      <th>5</th>\n",
       "      <td>Resistance2</td>\n",
       "      <td>6.77</td>\n",
       "      <td>6.27</td>\n",
       "    </tr>\n",
       "    <tr>\n",
       "      <th>6</th>\n",
       "      <td>Resistance3</td>\n",
       "      <td>8.07</td>\n",
       "      <td>6.77</td>\n",
       "    </tr>\n",
       "  </tbody>\n",
       "</table>\n",
       "</div>"
      ],
      "text/plain": [
       "         Pivot  Classic  Fibonacci\n",
       "0     Support3     2.87       4.17\n",
       "1     Support2     4.17       4.66\n",
       "2     Support1     4.63       4.97\n",
       "3        Price     5.47       5.47\n",
       "4  Resistance1     5.93       5.96\n",
       "5  Resistance2     6.77       6.27\n",
       "6  Resistance3     8.07       6.77"
      ]
     },
     "execution_count": 32,
     "metadata": {},
     "output_type": "execute_result"
    }
   ],
   "source": [
    "PRM_support_resistance"
   ]
  },
  {
   "cell_type": "code",
   "execution_count": 33,
   "id": "5f829abd",
   "metadata": {},
   "outputs": [],
   "source": [
    "PRM_support_resistance.to_csv('PRM_support_resistance.csv', index = False)"
   ]
  },
  {
   "cell_type": "code",
   "execution_count": null,
   "id": "f12992f4",
   "metadata": {},
   "outputs": [],
   "source": []
  }
 ],
 "metadata": {
  "kernelspec": {
   "display_name": "Python 3 (ipykernel)",
   "language": "python",
   "name": "python3"
  },
  "language_info": {
   "codemirror_mode": {
    "name": "ipython",
    "version": 3
   },
   "file_extension": ".py",
   "mimetype": "text/x-python",
   "name": "python",
   "nbconvert_exporter": "python",
   "pygments_lexer": "ipython3",
   "version": "3.11.4"
  }
 },
 "nbformat": 4,
 "nbformat_minor": 5
}
